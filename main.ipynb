{
 "cells": [
  {
   "cell_type": "code",
   "execution_count": 2,
   "metadata": {},
   "outputs": [
    {
     "name": "stdout",
     "output_type": "stream",
     "text": [
      "Requirement already satisfied: openai in /Library/Frameworks/Python.framework/Versions/3.11/lib/python3.11/site-packages (0.27.8)\n",
      "Requirement already satisfied: praw in /Library/Frameworks/Python.framework/Versions/3.11/lib/python3.11/site-packages (7.7.0)\n",
      "Requirement already satisfied: requests>=2.20 in /Library/Frameworks/Python.framework/Versions/3.11/lib/python3.11/site-packages (from openai) (2.31.0)\n",
      "Requirement already satisfied: tqdm in /Library/Frameworks/Python.framework/Versions/3.11/lib/python3.11/site-packages (from openai) (4.65.0)\n",
      "Requirement already satisfied: aiohttp in /Library/Frameworks/Python.framework/Versions/3.11/lib/python3.11/site-packages (from openai) (3.8.4)\n",
      "Requirement already satisfied: prawcore<3,>=2.1 in /Library/Frameworks/Python.framework/Versions/3.11/lib/python3.11/site-packages (from praw) (2.3.0)\n",
      "Requirement already satisfied: update-checker>=0.18 in /Library/Frameworks/Python.framework/Versions/3.11/lib/python3.11/site-packages (from praw) (0.18.0)\n",
      "Requirement already satisfied: websocket-client>=0.54.0 in /Library/Frameworks/Python.framework/Versions/3.11/lib/python3.11/site-packages (from praw) (1.5.3)\n",
      "Requirement already satisfied: charset-normalizer<4,>=2 in /Library/Frameworks/Python.framework/Versions/3.11/lib/python3.11/site-packages (from requests>=2.20->openai) (3.1.0)\n",
      "Requirement already satisfied: idna<4,>=2.5 in /Library/Frameworks/Python.framework/Versions/3.11/lib/python3.11/site-packages (from requests>=2.20->openai) (3.4)\n",
      "Requirement already satisfied: urllib3<3,>=1.21.1 in /Library/Frameworks/Python.framework/Versions/3.11/lib/python3.11/site-packages (from requests>=2.20->openai) (2.0.3)\n",
      "Requirement already satisfied: certifi>=2017.4.17 in /Library/Frameworks/Python.framework/Versions/3.11/lib/python3.11/site-packages (from requests>=2.20->openai) (2023.5.7)\n",
      "Requirement already satisfied: attrs>=17.3.0 in /Library/Frameworks/Python.framework/Versions/3.11/lib/python3.11/site-packages (from aiohttp->openai) (23.1.0)\n",
      "Requirement already satisfied: multidict<7.0,>=4.5 in /Library/Frameworks/Python.framework/Versions/3.11/lib/python3.11/site-packages (from aiohttp->openai) (6.0.4)\n",
      "Requirement already satisfied: async-timeout<5.0,>=4.0.0a3 in /Library/Frameworks/Python.framework/Versions/3.11/lib/python3.11/site-packages (from aiohttp->openai) (4.0.2)\n",
      "Requirement already satisfied: yarl<2.0,>=1.0 in /Library/Frameworks/Python.framework/Versions/3.11/lib/python3.11/site-packages (from aiohttp->openai) (1.9.2)\n",
      "Requirement already satisfied: frozenlist>=1.1.1 in /Library/Frameworks/Python.framework/Versions/3.11/lib/python3.11/site-packages (from aiohttp->openai) (1.3.3)\n",
      "Requirement already satisfied: aiosignal>=1.1.2 in /Library/Frameworks/Python.framework/Versions/3.11/lib/python3.11/site-packages (from aiohttp->openai) (1.3.1)\n",
      "\n",
      "\u001b[1m[\u001b[0m\u001b[34;49mnotice\u001b[0m\u001b[1;39;49m]\u001b[0m\u001b[39;49m A new release of pip available: \u001b[0m\u001b[31;49m22.3.1\u001b[0m\u001b[39;49m -> \u001b[0m\u001b[32;49m23.1.2\u001b[0m\n",
      "\u001b[1m[\u001b[0m\u001b[34;49mnotice\u001b[0m\u001b[1;39;49m]\u001b[0m\u001b[39;49m To update, run: \u001b[0m\u001b[32;49mpip3 install --upgrade pip\u001b[0m\n",
      "Note: you may need to restart the kernel to use updated packages.\n"
     ]
    }
   ],
   "source": [
    "%pip install openai praw"
   ]
  },
  {
   "cell_type": "code",
   "execution_count": 25,
   "metadata": {},
   "outputs": [],
   "source": [
    "import openai"
   ]
  },
  {
   "cell_type": "code",
   "execution_count": 4,
   "metadata": {},
   "outputs": [],
   "source": [
    "import praw\n"
   ]
  },
  {
   "cell_type": "code",
   "execution_count": 7,
   "metadata": {},
   "outputs": [],
   "source": [
    "reddit = praw.Reddit(client_id=client_id,\n",
    "                     client_secret=client_secret,\n",
    "                     user_agent='sentiment analysis test')"
   ]
  },
  {
   "cell_type": "code",
   "execution_count": null,
   "metadata": {},
   "outputs": [],
   "source": [
    "for submission in reddit.subreddit(\"stocks\").hot(limit=5):\n",
    "    print(submission.title)"
   ]
  },
  {
   "cell_type": "code",
   "execution_count": 9,
   "metadata": {},
   "outputs": [],
   "source": [
    "subreddit_stocks = reddit.subreddit(\"stocks\")"
   ]
  },
  {
   "cell_type": "code",
   "execution_count": 10,
   "metadata": {},
   "outputs": [
    {
     "data": {
      "text/plain": [
       "'Stocks - Investing and trading for all'"
      ]
     },
     "execution_count": 10,
     "metadata": {},
     "output_type": "execute_result"
    }
   ],
   "source": [
    "subreddit_stocks.title"
   ]
  },
  {
   "cell_type": "code",
   "execution_count": 11,
   "metadata": {},
   "outputs": [
    {
     "name": "stdout",
     "output_type": "stream",
     "text": [
      "r/Stocks going dark poll ends with 67% in favor of a 3 day blackout\n",
      "r/Stocks Daily Discussion & Fundamentals Friday Jun 09, 2023\n",
      "Tech leaders are calling for an A.I. pause because they have no product ready, Palantir CEO says\n",
      "WSJ - S&P 500 ends longest bear market since the 1940s and signals beginning of new bull market.\n",
      "GM to use Tesla's charging network, joining Ford in leveraging EV leader's tech\n"
     ]
    }
   ],
   "source": [
    "for post in subreddit_stocks.hot(limit=5):\n",
    "    print(post.title)"
   ]
  },
  {
   "cell_type": "code",
   "execution_count": 12,
   "metadata": {},
   "outputs": [
    {
     "name": "stdout",
     "output_type": "stream",
     "text": [
      "1453kuh\n",
      "1450iow\n",
      "1453tou\n",
      "144ptye\n",
      "144km3h\n"
     ]
    }
   ],
   "source": [
    "for post in subreddit_stocks.hot(limit=5):\n",
    "    print(post.id)"
   ]
  },
  {
   "cell_type": "code",
   "execution_count": null,
   "metadata": {},
   "outputs": [],
   "source": [
    "for post in subreddit_stocks.hot(limit=5):\n",
    "    print(post.title)\n",
    "    submission = reddit.submission(post.id)\n",
    "    #  print top 2 comments of each submission\n",
    "    counter = 0\n",
    "    for comment in submission.comments:\n",
    "        print(comment.body)\n",
    "        # if comment.body == '[deleted]' # check to see if comment is deleted\n",
    "        counter += 1\n",
    "        if counter == 2:\n",
    "            break"
   ]
  },
  {
   "attachments": {},
   "cell_type": "markdown",
   "metadata": {},
   "source": [
    "### Now, create a function that will get the top N post titles and the top N comments for each post and format tham as prompt strings and add them to a dictionary."
   ]
  },
  {
   "cell_type": "code",
   "execution_count": 17,
   "metadata": {},
   "outputs": [],
   "source": [
    "def get_titles_and_comments(subreddit=\"stocks\", limit=6,num_comments=3,skip_first=2):\n",
    "    subreddit = reddit.subreddit(subreddit)\n",
    "    title_and_comments = {}\n",
    "\n",
    "    for counter,post in enumerate(subreddit.hot(limit=limit)):\n",
    "        \n",
    "        if counter < skip_first:\n",
    "            continue\n",
    "        \n",
    "        counter += (1-skip_first)\n",
    "\n",
    "        title_and_comments[counter] = \"\"\n",
    "        # PRAW submission object\n",
    "        submission = reddit.submission(post.id)\n",
    "        title = post.title\n",
    "\n",
    "        #  {0: 'Title: title\\n\\nComments: \\n\\n', 1: 'Title: title\\n\\nComments: \\n\\n'}\n",
    "        title_and_comments[counter] += 'Title: '+title+'\\n\\n'\n",
    "        title_and_comments[counter] += 'Comments: \\n\\n'\n",
    "\n",
    "        comment_counter = 0\n",
    "        for comment in submission.comments:\n",
    "            if not comment.body == '[deleted]':\n",
    "                title_and_comments[counter] += comment.body+'\\n'\n",
    "                comment_counter += 1\n",
    "            \n",
    "            if comment_counter == num_comments:\n",
    "                break\n",
    "      \n",
    "    return title_and_comments"
   ]
  },
  {
   "cell_type": "code",
   "execution_count": 18,
   "metadata": {},
   "outputs": [],
   "source": [
    "titles_and_comments = get_titles_and_comments()"
   ]
  },
  {
   "cell_type": "code",
   "execution_count": 19,
   "metadata": {},
   "outputs": [
    {
     "data": {
      "text/plain": [
       "{1: \"Title: Tech leaders are calling for an A.I. pause because they have no product ready, Palantir CEO says\\n\\nComments: \\n\\nA tale as old as force has existed. When you're not good enough to get what you want on your own, you run to the government.\\nHe isn't wrong.\\nI ahould buy more pltr\\n\",\n",
       " 2: 'Title: WSJ - S&P 500 ends longest bear market since the 1940s and signals beginning of new bull market.\\n\\nComments: \\n\\nLongest bear market since the 1940s? Then what was 2000-2002?\\nGood to know. Everything fixed in a day.\\nYeah, everything is just peachy. /s \\n\\nThis is all a ruse.\\n',\n",
       " 3: \"Title: GM to use Tesla's charging network, joining Ford in leveraging EV leader's tech\\n\\nComments: \\n\\nChargepoint, electrify America, evgo, blink etc are all absolute trash compared to the ease, reliability and speed of the Tesla supercharger network.\\nWhat does it mean GM/ford to start installing the charging port known as NACS instead of current CCS? Does that mean CCS charging will eventually be going away and NACS will be the new standard for all cars eventually? \\n\\nWhat’s the benefit to NACS over CCS?\\nThis is what happens when one company puts in the money and effort to do something and competitors are caught with their pants down.\\n\",\n",
       " 4: 'Title: How US stocks rose 20% from their lows, and where they might be going\\n\\nComments: \\n\\nAt least they are accurate in saying this is 7 stocks that pulled us out.\\n\"rate hiking cycle that appears to be nearing its end\"\\nYou heard it here, Tesla is now a safe bet in uncertain times 😆\\n'}"
      ]
     },
     "execution_count": 19,
     "metadata": {},
     "output_type": "execute_result"
    }
   ],
   "source": [
    "titles_and_comments"
   ]
  },
  {
   "cell_type": "code",
   "execution_count": 20,
   "metadata": {},
   "outputs": [],
   "source": [
    "def create_prompt(title_and_comments):\n",
    "    task=\"Return the stock ticker or company name mentioned in the following title and comments and classify the sentiment around the company as positive, negative, or neutral.\\n\\n\"\n",
    "    return task+title_and_comments"
   ]
  },
  {
   "cell_type": "code",
   "execution_count": 21,
   "metadata": {},
   "outputs": [
    {
     "data": {
      "text/plain": [
       "\"Title: Tech leaders are calling for an A.I. pause because they have no product ready, Palantir CEO says\\n\\nComments: \\n\\nA tale as old as force has existed. When you're not good enough to get what you want on your own, you run to the government.\\nHe isn't wrong.\\nI ahould buy more pltr\\n\""
      ]
     },
     "execution_count": 21,
     "metadata": {},
     "output_type": "execute_result"
    }
   ],
   "source": [
    "titles_and_comments[1]"
   ]
  },
  {
   "cell_type": "code",
   "execution_count": 22,
   "metadata": {},
   "outputs": [
    {
     "name": "stdout",
     "output_type": "stream",
     "text": [
      "Return the stock ticker or company name mentioned in the following title and comments and classify the sentiment around the company as positive, negative, or neutral.\n",
      "\n",
      "Title: Tech leaders are calling for an A.I. pause because they have no product ready, Palantir CEO says\n",
      "\n",
      "Comments: \n",
      "\n",
      "A tale as old as force has existed. When you're not good enough to get what you want on your own, you run to the government.\n",
      "He isn't wrong.\n",
      "I ahould buy more pltr\n",
      "\n"
     ]
    }
   ],
   "source": [
    "print(create_prompt(titles_and_comments[1]))"
   ]
  },
  {
   "cell_type": "code",
   "execution_count": 35,
   "metadata": {},
   "outputs": [
    {
     "name": "stdout",
     "output_type": "stream",
     "text": [
      "Title: Tech leaders are calling for an A.I. pause because they have no product ready, Palantir CEO says\n",
      "\n",
      "Comments: \n",
      "\n",
      "A tale as old as force has existed. When you're not good enough to get what you want on your own, you run to the government.\n",
      "He isn't wrong.\n",
      "I ahould buy more pltr\n",
      "\n",
      "Sentiment Report From OpenAI: \n",
      "Company Name: Palantir\n",
      "Sentiment: Neutral\n",
      "--------------------------------------------------\n",
      "Title: WSJ - S&P 500 ends longest bear market since the 1940s and signals beginning of new bull market.\n",
      "\n",
      "Comments: \n",
      "\n",
      "Longest bear market since the 1940s? Then what was 2000-2002?\n",
      "Good to know. Everything fixed in a day.\n",
      "Yeah, everything is just peachy. /s \n",
      "\n",
      "This is all a ruse.\n",
      "\n",
      "Sentiment Report From OpenAI: \n",
      "Stock Ticker/Company Name: S&P 500\n",
      "Sentiment: Neutral\n",
      "--------------------------------------------------\n",
      "Title: GM to use Tesla's charging network, joining Ford in leveraging EV leader's tech\n",
      "\n",
      "Comments: \n",
      "\n",
      "Chargepoint, electrify America, evgo, blink etc are all absolute trash compared to the ease, reliability and speed of the Tesla supercharger network.\n",
      "What does it mean GM/ford to start installing the charging port known as NACS instead of current CCS? Does that mean CCS charging will eventually be going away and NACS will be the new standard for all cars eventually? \n",
      "\n",
      "What’s the benefit to NACS over CCS?\n",
      "This is what happens when one company puts in the money and effort to do something and competitors are caught with their pants down.\n",
      "\n",
      "Sentiment Report From OpenAI: \n",
      "Company: Tesla\n",
      "Sentiment: Positive\n",
      "--------------------------------------------------\n",
      "Title: How US stocks rose 20% from their lows, and where they might be going\n",
      "\n",
      "Comments: \n",
      "\n",
      "At least they are accurate in saying this is 7 stocks that pulled us out.\n",
      "\"rate hiking cycle that appears to be nearing its end\"\n",
      "You heard it here, Tesla is now a safe bet in uncertain times 😆\n",
      "\n",
      "Sentiment Report From OpenAI: \n",
      "Company: Tesla\n",
      "Sentiment: Positive\n",
      "--------------------------------------------------\n"
     ]
    }
   ],
   "source": [
    "for key, title_with_comments in titles_and_comments.items():\n",
    "    prompt = create_prompt(title_with_comments) \n",
    "\n",
    "    response = openai.Completion.create(engine='text-davinci-003',\n",
    "                                        prompt=prompt,\n",
    "                                        max_tokens=256,\n",
    "                                        temperature=0,\n",
    "                                        top_p=1.0\n",
    "    )\n",
    "    print(title_with_comments)\n",
    "    print(f\"Sentiment Report From OpenAI: {response['choices'][0]['text']}\")\n",
    "    print(\"--------------------------------------------------\")"
   ]
  }
 ],
 "metadata": {
  "kernelspec": {
   "display_name": "Python 3",
   "language": "python",
   "name": "python3"
  },
  "language_info": {
   "codemirror_mode": {
    "name": "ipython",
    "version": 3
   },
   "file_extension": ".py",
   "mimetype": "text/x-python",
   "name": "python",
   "nbconvert_exporter": "python",
   "pygments_lexer": "ipython3",
   "version": "3.11.2"
  },
  "orig_nbformat": 4
 },
 "nbformat": 4,
 "nbformat_minor": 2
}
